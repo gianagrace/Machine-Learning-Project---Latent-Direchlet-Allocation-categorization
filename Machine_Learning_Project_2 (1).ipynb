{
  "nbformat": 4,
  "nbformat_minor": 0,
  "metadata": {
    "colab": {
      "provenance": []
    },
    "kernelspec": {
      "name": "python3",
      "display_name": "Python 3"
    },
    "language_info": {
      "name": "python"
    }
  },
  "cells": [
    {
      "cell_type": "markdown",
      "source": [
        "#Machine Learning Project 2\n",
        "###Giana Grace and Natalie Dume"
      ],
      "metadata": {
        "id": "MYqPt-ay594l"
      }
    },
    {
      "cell_type": "markdown",
      "source": [
        "#INTRO\n",
        "\n",
        "Research is being done everyday in a variety of fields and subjects. Conducting research already is a tedious and tasking process but are there ways to simplify the process? Say for example, you are a researcher preparing a literatire review for a thesis requiring you to analyze a large volume of articles quickly. How will you categorize relevant studies and see how frequently each topic is addressed?\n",
        "This dataset offers an in-depth view of research articles across various fields, providing critical information such as article titles, abstracts, and unique identifiers. The abstracts summarize the primary content and focus of each study, allowing for efficient analysis of thematic trends and topic distribution. This data can be used to address the question: Can you create a system that can identify the main topics in a series of research articles and determine which of these topics appear in each article? Using techniques like Latent Dirichlet Allocation (LDA), we can identify key topics within the text data, tracking how frequently each topic emerges across different articles. LDA is especially well-suited for this task because it assumes that documents are a mixture of topics and that each topic is a mixture of words. This assumption aligns with the nature of research articles, which may address multiple subtopics but tend to focus on a primary theme.\n",
        "This process can assist researchers in organizing, categorizing, and synthesizing large volumes of literature more effectively, particularly for tasks like literature reviews or meta-analyses. By analyzing the frequency of topics, we can also uncover trends in research interests, identify gaps in the literature, and observe shifts in academic focus over time. This can reveal insights into broader research trends, dominant themes, and emerging areas within specific fields. The LDA-based recommendation model aims to address common challenges in text-based datasets, such as identifying the implicit structure of large-scale textual information and enhancing topic-based retrieval of articles."
      ],
      "metadata": {
        "id": "5Hc7FXWq53MH"
      }
    },
    {
      "cell_type": "code",
      "source": [
        "from google.colab import drive\n",
        "drive.mount('/content/drive')"
      ],
      "metadata": {
        "colab": {
          "base_uri": "https://localhost:8080/"
        },
        "id": "GMd7kGLpJMSg",
        "outputId": "b6368282-a86e-4c5d-b23a-e00f095c682e"
      },
      "execution_count": null,
      "outputs": [
        {
          "output_type": "stream",
          "name": "stdout",
          "text": [
            "Drive already mounted at /content/drive; to attempt to forcibly remount, call drive.mount(\"/content/drive\", force_remount=True).\n"
          ]
        }
      ]
    },
    {
      "cell_type": "code",
      "source": [
        "import numpy as np\n",
        "import pandas as pd\n",
        "import matplotlib.pyplot as plt\n",
        "import seaborn as sns"
      ],
      "metadata": {
        "id": "U-xoa1C8Gbb4"
      },
      "execution_count": null,
      "outputs": []
    },
    {
      "cell_type": "code",
      "source": [
        "articles = pd.read_csv(\"/content/drive/MyDrive/Colab Notebooks/articles.csv\", nrows=1000)\n",
        "\n",
        "articles.head(10)"
      ],
      "metadata": {
        "colab": {
          "base_uri": "https://localhost:8080/",
          "height": 363
        },
        "id": "dQHgc6FIGs50",
        "outputId": "150ad386-2163-44ff-c2c2-7b7191a28e52"
      },
      "execution_count": null,
      "outputs": [
        {
          "output_type": "execute_result",
          "data": {
            "text/plain": [
              "      ID                                              TITLE  \\\n",
              "0  20973  Closed-form Marginal Likelihood in Gamma-Poiss...   \n",
              "1  20974  Laboratory mid-IR spectra of equilibrated and ...   \n",
              "2  20975         Case For Static AMSDU Aggregation in WLANs   \n",
              "3  20976  The $Gaia$-ESO Survey: the inner disk intermed...   \n",
              "4  20977  Witness-Functions versus Interpretation-Functi...   \n",
              "5  20978  Pairwise Difference Estimation of High Dimensi...   \n",
              "6  20979  Dissecting the multivariate extremal index and...   \n",
              "7  20980  Big Universe, Big Data: Machine Learning and I...   \n",
              "8  20981  Natural Language Does Not Emerge 'Naturally' i...   \n",
              "9  20982  Properties and Origin of Galaxy Velocity Bias ...   \n",
              "\n",
              "                                            ABSTRACT  \n",
              "0    We present novel understandings of the Gamma...  \n",
              "1    Meteorites contain minerals from Solar Syste...  \n",
              "2    Frame aggregation is a mechanism by which mu...  \n",
              "3    Milky Way open clusters are very diverse in ...  \n",
              "4    Proving that a cryptographic protocol is cor...  \n",
              "5    This paper proposes a regularized pairwise d...  \n",
              "6    A central issue in the theory of extreme val...  \n",
              "7    Astrophysics and cosmology are rich with dat...  \n",
              "8    A number of recent works have proposed techn...  \n",
              "9    We use the hydrodynamical galaxy formation s...  "
            ],
            "text/html": [
              "\n",
              "  <div id=\"df-52ab63a5-07bb-4b22-94f7-3a447af04d20\" class=\"colab-df-container\">\n",
              "    <div>\n",
              "<style scoped>\n",
              "    .dataframe tbody tr th:only-of-type {\n",
              "        vertical-align: middle;\n",
              "    }\n",
              "\n",
              "    .dataframe tbody tr th {\n",
              "        vertical-align: top;\n",
              "    }\n",
              "\n",
              "    .dataframe thead th {\n",
              "        text-align: right;\n",
              "    }\n",
              "</style>\n",
              "<table border=\"1\" class=\"dataframe\">\n",
              "  <thead>\n",
              "    <tr style=\"text-align: right;\">\n",
              "      <th></th>\n",
              "      <th>ID</th>\n",
              "      <th>TITLE</th>\n",
              "      <th>ABSTRACT</th>\n",
              "    </tr>\n",
              "  </thead>\n",
              "  <tbody>\n",
              "    <tr>\n",
              "      <th>0</th>\n",
              "      <td>20973</td>\n",
              "      <td>Closed-form Marginal Likelihood in Gamma-Poiss...</td>\n",
              "      <td>We present novel understandings of the Gamma...</td>\n",
              "    </tr>\n",
              "    <tr>\n",
              "      <th>1</th>\n",
              "      <td>20974</td>\n",
              "      <td>Laboratory mid-IR spectra of equilibrated and ...</td>\n",
              "      <td>Meteorites contain minerals from Solar Syste...</td>\n",
              "    </tr>\n",
              "    <tr>\n",
              "      <th>2</th>\n",
              "      <td>20975</td>\n",
              "      <td>Case For Static AMSDU Aggregation in WLANs</td>\n",
              "      <td>Frame aggregation is a mechanism by which mu...</td>\n",
              "    </tr>\n",
              "    <tr>\n",
              "      <th>3</th>\n",
              "      <td>20976</td>\n",
              "      <td>The $Gaia$-ESO Survey: the inner disk intermed...</td>\n",
              "      <td>Milky Way open clusters are very diverse in ...</td>\n",
              "    </tr>\n",
              "    <tr>\n",
              "      <th>4</th>\n",
              "      <td>20977</td>\n",
              "      <td>Witness-Functions versus Interpretation-Functi...</td>\n",
              "      <td>Proving that a cryptographic protocol is cor...</td>\n",
              "    </tr>\n",
              "    <tr>\n",
              "      <th>5</th>\n",
              "      <td>20978</td>\n",
              "      <td>Pairwise Difference Estimation of High Dimensi...</td>\n",
              "      <td>This paper proposes a regularized pairwise d...</td>\n",
              "    </tr>\n",
              "    <tr>\n",
              "      <th>6</th>\n",
              "      <td>20979</td>\n",
              "      <td>Dissecting the multivariate extremal index and...</td>\n",
              "      <td>A central issue in the theory of extreme val...</td>\n",
              "    </tr>\n",
              "    <tr>\n",
              "      <th>7</th>\n",
              "      <td>20980</td>\n",
              "      <td>Big Universe, Big Data: Machine Learning and I...</td>\n",
              "      <td>Astrophysics and cosmology are rich with dat...</td>\n",
              "    </tr>\n",
              "    <tr>\n",
              "      <th>8</th>\n",
              "      <td>20981</td>\n",
              "      <td>Natural Language Does Not Emerge 'Naturally' i...</td>\n",
              "      <td>A number of recent works have proposed techn...</td>\n",
              "    </tr>\n",
              "    <tr>\n",
              "      <th>9</th>\n",
              "      <td>20982</td>\n",
              "      <td>Properties and Origin of Galaxy Velocity Bias ...</td>\n",
              "      <td>We use the hydrodynamical galaxy formation s...</td>\n",
              "    </tr>\n",
              "  </tbody>\n",
              "</table>\n",
              "</div>\n",
              "    <div class=\"colab-df-buttons\">\n",
              "\n",
              "  <div class=\"colab-df-container\">\n",
              "    <button class=\"colab-df-convert\" onclick=\"convertToInteractive('df-52ab63a5-07bb-4b22-94f7-3a447af04d20')\"\n",
              "            title=\"Convert this dataframe to an interactive table.\"\n",
              "            style=\"display:none;\">\n",
              "\n",
              "  <svg xmlns=\"http://www.w3.org/2000/svg\" height=\"24px\" viewBox=\"0 -960 960 960\">\n",
              "    <path d=\"M120-120v-720h720v720H120Zm60-500h600v-160H180v160Zm220 220h160v-160H400v160Zm0 220h160v-160H400v160ZM180-400h160v-160H180v160Zm440 0h160v-160H620v160ZM180-180h160v-160H180v160Zm440 0h160v-160H620v160Z\"/>\n",
              "  </svg>\n",
              "    </button>\n",
              "\n",
              "  <style>\n",
              "    .colab-df-container {\n",
              "      display:flex;\n",
              "      gap: 12px;\n",
              "    }\n",
              "\n",
              "    .colab-df-convert {\n",
              "      background-color: #E8F0FE;\n",
              "      border: none;\n",
              "      border-radius: 50%;\n",
              "      cursor: pointer;\n",
              "      display: none;\n",
              "      fill: #1967D2;\n",
              "      height: 32px;\n",
              "      padding: 0 0 0 0;\n",
              "      width: 32px;\n",
              "    }\n",
              "\n",
              "    .colab-df-convert:hover {\n",
              "      background-color: #E2EBFA;\n",
              "      box-shadow: 0px 1px 2px rgba(60, 64, 67, 0.3), 0px 1px 3px 1px rgba(60, 64, 67, 0.15);\n",
              "      fill: #174EA6;\n",
              "    }\n",
              "\n",
              "    .colab-df-buttons div {\n",
              "      margin-bottom: 4px;\n",
              "    }\n",
              "\n",
              "    [theme=dark] .colab-df-convert {\n",
              "      background-color: #3B4455;\n",
              "      fill: #D2E3FC;\n",
              "    }\n",
              "\n",
              "    [theme=dark] .colab-df-convert:hover {\n",
              "      background-color: #434B5C;\n",
              "      box-shadow: 0px 1px 3px 1px rgba(0, 0, 0, 0.15);\n",
              "      filter: drop-shadow(0px 1px 2px rgba(0, 0, 0, 0.3));\n",
              "      fill: #FFFFFF;\n",
              "    }\n",
              "  </style>\n",
              "\n",
              "    <script>\n",
              "      const buttonEl =\n",
              "        document.querySelector('#df-52ab63a5-07bb-4b22-94f7-3a447af04d20 button.colab-df-convert');\n",
              "      buttonEl.style.display =\n",
              "        google.colab.kernel.accessAllowed ? 'block' : 'none';\n",
              "\n",
              "      async function convertToInteractive(key) {\n",
              "        const element = document.querySelector('#df-52ab63a5-07bb-4b22-94f7-3a447af04d20');\n",
              "        const dataTable =\n",
              "          await google.colab.kernel.invokeFunction('convertToInteractive',\n",
              "                                                    [key], {});\n",
              "        if (!dataTable) return;\n",
              "\n",
              "        const docLinkHtml = 'Like what you see? Visit the ' +\n",
              "          '<a target=\"_blank\" href=https://colab.research.google.com/notebooks/data_table.ipynb>data table notebook</a>'\n",
              "          + ' to learn more about interactive tables.';\n",
              "        element.innerHTML = '';\n",
              "        dataTable['output_type'] = 'display_data';\n",
              "        await google.colab.output.renderOutput(dataTable, element);\n",
              "        const docLink = document.createElement('div');\n",
              "        docLink.innerHTML = docLinkHtml;\n",
              "        element.appendChild(docLink);\n",
              "      }\n",
              "    </script>\n",
              "  </div>\n",
              "\n",
              "\n",
              "<div id=\"df-68fe58f2-e84a-4630-9497-23d52a227011\">\n",
              "  <button class=\"colab-df-quickchart\" onclick=\"quickchart('df-68fe58f2-e84a-4630-9497-23d52a227011')\"\n",
              "            title=\"Suggest charts\"\n",
              "            style=\"display:none;\">\n",
              "\n",
              "<svg xmlns=\"http://www.w3.org/2000/svg\" height=\"24px\"viewBox=\"0 0 24 24\"\n",
              "     width=\"24px\">\n",
              "    <g>\n",
              "        <path d=\"M19 3H5c-1.1 0-2 .9-2 2v14c0 1.1.9 2 2 2h14c1.1 0 2-.9 2-2V5c0-1.1-.9-2-2-2zM9 17H7v-7h2v7zm4 0h-2V7h2v10zm4 0h-2v-4h2v4z\"/>\n",
              "    </g>\n",
              "</svg>\n",
              "  </button>\n",
              "\n",
              "<style>\n",
              "  .colab-df-quickchart {\n",
              "      --bg-color: #E8F0FE;\n",
              "      --fill-color: #1967D2;\n",
              "      --hover-bg-color: #E2EBFA;\n",
              "      --hover-fill-color: #174EA6;\n",
              "      --disabled-fill-color: #AAA;\n",
              "      --disabled-bg-color: #DDD;\n",
              "  }\n",
              "\n",
              "  [theme=dark] .colab-df-quickchart {\n",
              "      --bg-color: #3B4455;\n",
              "      --fill-color: #D2E3FC;\n",
              "      --hover-bg-color: #434B5C;\n",
              "      --hover-fill-color: #FFFFFF;\n",
              "      --disabled-bg-color: #3B4455;\n",
              "      --disabled-fill-color: #666;\n",
              "  }\n",
              "\n",
              "  .colab-df-quickchart {\n",
              "    background-color: var(--bg-color);\n",
              "    border: none;\n",
              "    border-radius: 50%;\n",
              "    cursor: pointer;\n",
              "    display: none;\n",
              "    fill: var(--fill-color);\n",
              "    height: 32px;\n",
              "    padding: 0;\n",
              "    width: 32px;\n",
              "  }\n",
              "\n",
              "  .colab-df-quickchart:hover {\n",
              "    background-color: var(--hover-bg-color);\n",
              "    box-shadow: 0 1px 2px rgba(60, 64, 67, 0.3), 0 1px 3px 1px rgba(60, 64, 67, 0.15);\n",
              "    fill: var(--button-hover-fill-color);\n",
              "  }\n",
              "\n",
              "  .colab-df-quickchart-complete:disabled,\n",
              "  .colab-df-quickchart-complete:disabled:hover {\n",
              "    background-color: var(--disabled-bg-color);\n",
              "    fill: var(--disabled-fill-color);\n",
              "    box-shadow: none;\n",
              "  }\n",
              "\n",
              "  .colab-df-spinner {\n",
              "    border: 2px solid var(--fill-color);\n",
              "    border-color: transparent;\n",
              "    border-bottom-color: var(--fill-color);\n",
              "    animation:\n",
              "      spin 1s steps(1) infinite;\n",
              "  }\n",
              "\n",
              "  @keyframes spin {\n",
              "    0% {\n",
              "      border-color: transparent;\n",
              "      border-bottom-color: var(--fill-color);\n",
              "      border-left-color: var(--fill-color);\n",
              "    }\n",
              "    20% {\n",
              "      border-color: transparent;\n",
              "      border-left-color: var(--fill-color);\n",
              "      border-top-color: var(--fill-color);\n",
              "    }\n",
              "    30% {\n",
              "      border-color: transparent;\n",
              "      border-left-color: var(--fill-color);\n",
              "      border-top-color: var(--fill-color);\n",
              "      border-right-color: var(--fill-color);\n",
              "    }\n",
              "    40% {\n",
              "      border-color: transparent;\n",
              "      border-right-color: var(--fill-color);\n",
              "      border-top-color: var(--fill-color);\n",
              "    }\n",
              "    60% {\n",
              "      border-color: transparent;\n",
              "      border-right-color: var(--fill-color);\n",
              "    }\n",
              "    80% {\n",
              "      border-color: transparent;\n",
              "      border-right-color: var(--fill-color);\n",
              "      border-bottom-color: var(--fill-color);\n",
              "    }\n",
              "    90% {\n",
              "      border-color: transparent;\n",
              "      border-bottom-color: var(--fill-color);\n",
              "    }\n",
              "  }\n",
              "</style>\n",
              "\n",
              "  <script>\n",
              "    async function quickchart(key) {\n",
              "      const quickchartButtonEl =\n",
              "        document.querySelector('#' + key + ' button');\n",
              "      quickchartButtonEl.disabled = true;  // To prevent multiple clicks.\n",
              "      quickchartButtonEl.classList.add('colab-df-spinner');\n",
              "      try {\n",
              "        const charts = await google.colab.kernel.invokeFunction(\n",
              "            'suggestCharts', [key], {});\n",
              "      } catch (error) {\n",
              "        console.error('Error during call to suggestCharts:', error);\n",
              "      }\n",
              "      quickchartButtonEl.classList.remove('colab-df-spinner');\n",
              "      quickchartButtonEl.classList.add('colab-df-quickchart-complete');\n",
              "    }\n",
              "    (() => {\n",
              "      let quickchartButtonEl =\n",
              "        document.querySelector('#df-68fe58f2-e84a-4630-9497-23d52a227011 button');\n",
              "      quickchartButtonEl.style.display =\n",
              "        google.colab.kernel.accessAllowed ? 'block' : 'none';\n",
              "    })();\n",
              "  </script>\n",
              "</div>\n",
              "\n",
              "    </div>\n",
              "  </div>\n"
            ],
            "application/vnd.google.colaboratory.intrinsic+json": {
              "type": "dataframe",
              "variable_name": "articles",
              "summary": "{\n  \"name\": \"articles\",\n  \"rows\": 1000,\n  \"fields\": [\n    {\n      \"column\": \"ID\",\n      \"properties\": {\n        \"dtype\": \"number\",\n        \"std\": 288,\n        \"min\": 20973,\n        \"max\": 21972,\n        \"num_unique_values\": 1000,\n        \"samples\": [\n          21494,\n          21710,\n          21713\n        ],\n        \"semantic_type\": \"\",\n        \"description\": \"\"\n      }\n    },\n    {\n      \"column\": \"TITLE\",\n      \"properties\": {\n        \"dtype\": \"string\",\n        \"num_unique_values\": 1000,\n        \"samples\": [\n          \"An update to the EVEREST K2 pipeline: Short cadence, saturated stars, and Kepler-like photometry down to Kp = 15\",\n          \"Towards Interrogating Discriminative Machine Learning Models\",\n          \"A note on gradient Einstein-type manifolds\"\n        ],\n        \"semantic_type\": \"\",\n        \"description\": \"\"\n      }\n    },\n    {\n      \"column\": \"ABSTRACT\",\n      \"properties\": {\n        \"dtype\": \"string\",\n        \"num_unique_values\": 1000,\n        \"samples\": [\n          \"  We present an update to the EVEREST K2 pipeline that addresses various\\nlimitations in the previous version and improves the photometric precision of\\nthe de-trended light curves. We develop a fast regularization scheme for third\\norder pixel level decorrelation (PLD) and adapt the algorithm to include the\\nPLD vectors of neighboring stars to enhance the predictive power of the model\\nand minimize overfitting, particularly for faint stars. We also modify PLD to\\nwork for saturated stars and improve its performance on extremely variable\\nstars. On average, EVEREST 2.0 light curves have 10-20% higher photometric\\nprecision than those in the previous version, yielding the highest precision\\nlight curves at all Kp magnitudes of any publicly available K2 catalog. For\\nmost K2 campaigns, we recover the original Kepler precision to at least Kp =\\n14, and to at least Kp = 15 for campaigns 1, 5, and 6. We also de-trend all\\nshort cadence targets observed by K2, obtaining even higher photometric\\nprecision for these stars. All light curves for campaigns 0-8 are available\\nonline in the EVEREST catalog, which will be continuously updated with future\\ncampaigns. EVEREST 2.0 is open source and is coded in a general framework that\\ncan be applied to other photometric surveys, including Kepler and the upcoming\\nTESS mission.\\n\",\n          \"  It is oftentimes impossible to understand how machine learning models reach a\\ndecision. While recent research has proposed various technical approaches to\\nprovide some clues as to how a learning model makes individual decisions, they\\ncannot provide users with ability to inspect a learning model as a complete\\nentity. In this work, we propose a new technical approach that augments a\\nBayesian regression mixture model with multiple elastic nets. Using the\\nenhanced mixture model, we extract explanations for a target model through\\nglobal approximation. To demonstrate the utility of our approach, we evaluate\\nit on different learning models covering the tasks of text mining and image\\nrecognition. Our results indicate that the proposed approach not only\\noutperforms the state-of-the-art technique in explaining individual decisions\\nbut also provides users with an ability to discover the vulnerabilities of a\\nlearning model.\\n\",\n          \"  In this note we show that a nontrivial, compact, degenerate or nondegenerate,\\ngradient Einstein-type manifold of constant scalar curvature is isometric to\\nthe standard sphere with a well defined potential function. Moreover, under\\nsome geometric assumptions the noncompact case is also treated. In this case,\\nthe main result is that a homogeneous, proper, noncompact, nondegenerate,\\ngradient Einstein-type manifold is an Einstein manifold.\\n\"\n        ],\n        \"semantic_type\": \"\",\n        \"description\": \"\"\n      }\n    }\n  ]\n}"
            }
          },
          "metadata": {},
          "execution_count": 27
        }
      ]
    },
    {
      "cell_type": "markdown",
      "source": [
        "#Using Latent Direchlet Allocation to Sort Articles"
      ],
      "metadata": {
        "id": "_vtVUiRMZfPU"
      }
    },
    {
      "cell_type": "markdown",
      "source": [
        "After loading in and inspecting the dataset, the libraries nltk (Natural Language Toolkit) and gensim are loaded in for natural language processing (NLP). NLTK is useful for text preprocessing tasks, while Gensim specializes in topic modeling and similarity retrieval. stopwords and word_tokenize are tools from NLTK to help filter common words (like \"the,\" \"is\") and break down text into individual words (tokens), respectively.\n",
        "We then add code to download lists 'stopwords' and 'punkt' which would help in tokenizing text and removing common words that don't contribute or have any meanings to the topics."
      ],
      "metadata": {
        "id": "O7-aRvACFU5G"
      }
    },
    {
      "cell_type": "code",
      "source": [
        "!pip install gensim nltk"
      ],
      "metadata": {
        "colab": {
          "base_uri": "https://localhost:8080/"
        },
        "id": "_EmQLK9gZghm",
        "outputId": "49bf5596-64de-42ab-f0d5-e8a4dae901d0"
      },
      "execution_count": null,
      "outputs": [
        {
          "output_type": "stream",
          "name": "stdout",
          "text": [
            "Requirement already satisfied: gensim in /usr/local/lib/python3.10/dist-packages (4.3.3)\n",
            "Requirement already satisfied: nltk in /usr/local/lib/python3.10/dist-packages (3.8.1)\n",
            "Requirement already satisfied: numpy<2.0,>=1.18.5 in /usr/local/lib/python3.10/dist-packages (from gensim) (1.26.4)\n",
            "Requirement already satisfied: scipy<1.14.0,>=1.7.0 in /usr/local/lib/python3.10/dist-packages (from gensim) (1.13.1)\n",
            "Requirement already satisfied: smart-open>=1.8.1 in /usr/local/lib/python3.10/dist-packages (from gensim) (7.0.5)\n",
            "Requirement already satisfied: click in /usr/local/lib/python3.10/dist-packages (from nltk) (8.1.7)\n",
            "Requirement already satisfied: joblib in /usr/local/lib/python3.10/dist-packages (from nltk) (1.4.2)\n",
            "Requirement already satisfied: regex>=2021.8.3 in /usr/local/lib/python3.10/dist-packages (from nltk) (2024.9.11)\n",
            "Requirement already satisfied: tqdm in /usr/local/lib/python3.10/dist-packages (from nltk) (4.66.6)\n",
            "Requirement already satisfied: wrapt in /usr/local/lib/python3.10/dist-packages (from smart-open>=1.8.1->gensim) (1.16.0)\n"
          ]
        }
      ]
    },
    {
      "cell_type": "markdown",
      "source": [
        "After loading in and inspecting the dataset, the libraries nltk (Natural Language Toolkit) and gensim are loaded in for natural language processing (NLP). NLTK is useful for text preprocessing tasks, while Gensim specializes in topic modeling and similarity retrieval. stopwords and word_tokenize are tools from NLTK to help filter common words (like \"the,\" \"is\") and break down text into individual words (tokens), respectively.\n",
        "We then add code to download lists 'stopwords' and 'punkt' which would help in tokenizing text and removing common words that don't contribute or have any meanings to the topics.\n",
        "It was helpful to add a preprocess funcion which takes a single document and processes it, allowiing us to break down individual words, while removing characters such as punctuation and numbers. Additionally, this function filters out common words.\n",
        "As a result, we get preprocessed_docs, which contains lists of meaningful words for each title, completely free of stopwords and punctuation."
      ],
      "metadata": {
        "id": "ZSChe5XoILO-"
      }
    },
    {
      "cell_type": "code",
      "source": [
        "import nltk\n",
        "import gensim\n",
        "from gensim import corpora\n",
        "from nltk.corpus import stopwords\n",
        "from nltk.tokenize import word_tokenize\n",
        "import string\n",
        "\n",
        "nltk.download('stopwords')\n",
        "nltk.download('punkt')\n",
        "\n",
        "articles_1 = articles['TITLE']\n",
        "\n",
        "def preprocess_text(text):\n",
        "    stop_words = set(stopwords.words('english'))\n",
        "    tokens = word_tokenize(text.lower())  # Convert to lowercase and tokenize\n",
        "    tokens = [word for word in tokens if word.isalpha()]  # Remove punctuation\n",
        "    tokens = [word for word in tokens if word not in stop_words]  # Remove stopwords\n",
        "    return tokens\n",
        "\n",
        "processed_docs = [preprocess_text(doc) for doc in articles_1]"
      ],
      "metadata": {
        "colab": {
          "base_uri": "https://localhost:8080/"
        },
        "id": "AnzON-K-Zim1",
        "outputId": "b746db76-624b-4318-cb83-d1f4ead6b47b"
      },
      "execution_count": null,
      "outputs": [
        {
          "output_type": "stream",
          "name": "stderr",
          "text": [
            "[nltk_data] Downloading package stopwords to /root/nltk_data...\n",
            "[nltk_data]   Package stopwords is already up-to-date!\n",
            "[nltk_data] Downloading package punkt to /root/nltk_data...\n",
            "[nltk_data]   Package punkt is already up-to-date!\n"
          ]
        }
      ]
    },
    {
      "cell_type": "markdown",
      "source": [
        "It was helpful to add a preprocess funcion which takes a single document and processes it, allowiing us to break down individual words, while removing characters such as punctuation and numbers. Additionally, this function filters out common words. As a result, we get preprocessed_docs, which contains lists of meaningful words for each title, completely free of stopwords and punctuation.\n",
        "\n",
        "\n",
        "Next, we work on checking to see what number of topics to use, correlated with coherence score.\n",
        "To do this, we use stop_words to represent a set of common English words, like \"the\", \"is\", that we want filtered out of documents.\n",
        "To simplify the identification process, processed_docs, which is a list comprehension that iterates over each article, converts the articles/documents into lowercase, tokenizes the words, and only keeps the alphabetic tokens while also filtering out the stopwords. This results in a sublist of filtered, meaningful words for each article.\n",
        "Now for the part of evaluating the coherence score using the function compute_coherence_values, along with parameters and a rnage of number of topics to evaluate.\n",
        "This creates a LDA model for each topic number with a fixed random state for reproductibility and for 10 passes for better convergence/more efficient merging. Returned, we have the a list of LDA models and their coherence models. To visually assess this, a plot is created with coherence scores against the number of topics. Higher convergence score indicates more meaningful and consistent topics.\n"
      ],
      "metadata": {
        "id": "WCtK42pXHZ6f"
      }
    },
    {
      "cell_type": "code",
      "source": [
        "from gensim import corpora, models\n",
        "from gensim.models.coherencemodel import CoherenceModel\n",
        "from nltk.corpus import stopwords\n",
        "from nltk.tokenize import word_tokenize\n",
        "import matplotlib.pyplot as plt\n",
        "import numpy as np"
      ],
      "metadata": {
        "id": "iY9rLPhx3lE4"
      },
      "execution_count": null,
      "outputs": []
    },
    {
      "cell_type": "code",
      "source": [
        "stop_words = set(stopwords.words(\"english\"))\n",
        "processed_docs = [\n",
        "    [word for word in word_tokenize(doc.lower()) if word.isalpha() and word not in stop_words]\n",
        "    for doc in articles_1\n",
        "]\n",
        "\n",
        "dictionary = corpora.Dictionary(processed_docs)\n",
        "corpus = [dictionary.doc2bow(doc) for doc in processed_docs]\n",
        "\n",
        "# compute coherence score for topics\n",
        "def compute_coherence_values(corpus, dictionary, texts, start=2, limit=10, step=1):\n",
        "    coherence_values = []\n",
        "    model_list = []\n",
        "    for num_topics in range(start, limit, step):\n",
        "        model = models.LdaModel(corpus=corpus, id2word=dictionary, num_topics=num_topics, random_state=42, passes=10)\n",
        "        model_list.append(model)\n",
        "        coherencemodel = CoherenceModel(model=model, texts=texts, dictionary=dictionary, coherence='c_v')\n",
        "        coherence_values.append(coherencemodel.get_coherence())\n",
        "    return model_list, coherence_values\n",
        "\n",
        "# Find coherence scores\n",
        "start, limit, step = 2, 10, 1\n",
        "model_list, coherence_values = compute_coherence_values(corpus=corpus, dictionary=dictionary, texts=processed_docs, start=start, limit=limit, step=step)\n",
        "\n",
        "# Plot coherence values\n",
        "x = range(start, limit, step)\n",
        "plt.plot(x, coherence_values)\n",
        "plt.xlabel(\"Number of Topics\")\n",
        "plt.ylabel(\"Coherence Score\")\n",
        "plt.title(\"Coherence Score vs. Number of Topics\")\n",
        "plt.show()\n",
        "\n",
        "# select model based on highest coherence score\n",
        "optimal_num_topics = x[np.argmax(coherence_values)]\n",
        "best_lda_model = model_list[np.argmax(coherence_values)]\n",
        "\n",
        "# find the best number of topics\n",
        "print(f\"Optimal Number of Topics: {optimal_num_topics}\")\n",
        "for idx, topic in best_lda_model.print_topics(num_words=5):\n",
        "    print(f\"Topic {idx + 1}: {topic}\")"
      ],
      "metadata": {
        "colab": {
          "base_uri": "https://localhost:8080/",
          "height": 651
        },
        "id": "qBQvxTrc3S95",
        "outputId": "2e8ebdc5-3937-4d82-c9ea-c3623fb69de0"
      },
      "execution_count": null,
      "outputs": [
        {
          "output_type": "display_data",
          "data": {
            "text/plain": [
              "<Figure size 640x480 with 1 Axes>"
            ],
            "image/png": "[encoded data removed]"
          },
          "metadata": {}
        },
        {
          "output_type": "stream",
          "name": "stdout",
          "text": [
            "Optimal Number of Topics: 9\n",
            "Topic 1: 0.010*\"learning\" + 0.009*\"networks\" + 0.009*\"models\" + 0.009*\"deep\" + 0.007*\"using\"\n",
            "Topic 2: 0.010*\"neural\" + 0.008*\"learning\" + 0.008*\"networks\" + 0.007*\"deep\" + 0.006*\"approach\"\n",
            "Topic 3: 0.008*\"using\" + 0.008*\"learning\" + 0.007*\"framework\" + 0.006*\"groups\" + 0.006*\"models\"\n",
            "Topic 4: 0.007*\"model\" + 0.006*\"data\" + 0.006*\"models\" + 0.006*\"system\" + 0.006*\"based\"\n",
            "Topic 5: 0.023*\"learning\" + 0.019*\"networks\" + 0.015*\"deep\" + 0.013*\"neural\" + 0.009*\"convolutional\"\n",
            "Topic 6: 0.009*\"theory\" + 0.008*\"equations\" + 0.008*\"nonlinear\" + 0.007*\"problem\" + 0.006*\"differential\"\n",
            "Topic 7: 0.009*\"learning\" + 0.008*\"distributed\" + 0.007*\"systems\" + 0.006*\"data\" + 0.005*\"classification\"\n",
            "Topic 8: 0.008*\"via\" + 0.006*\"group\" + 0.004*\"function\" + 0.004*\"maps\" + 0.004*\"estimation\"\n",
            "Topic 9: 0.014*\"data\" + 0.010*\"analysis\" + 0.008*\"models\" + 0.007*\"networks\" + 0.006*\"efficient\"\n"
          ]
        }
      ]
    },
    {
      "cell_type": "markdown",
      "source": [
        "The coherence score in the context of LDA is used to evaluate and measure how meaningful the words are within the topics, and whether they appear frequently together in certain contexts. Coherence is important for interpretability, especially when it comes to LDA models. A high coherence score is desired, and therefore that is why the number of topics chosen when running the LDA model is 9. As shown above, we discovered that 9 was the optimal number of topics for this dataset, as seen in the graph above.\n",
        "\n",
        "Using number of topics, use LDA to sort research articles into specific number of topics."
      ],
      "metadata": {
        "id": "xLApCwGK3ToO"
      }
    },
    {
      "cell_type": "code",
      "source": [
        "dictionary = corpora.Dictionary(processed_docs)\n",
        "corpus = [dictionary.doc2bow(doc) for doc in processed_docs]"
      ],
      "metadata": {
        "id": "Lcpedf9IaLY2"
      },
      "execution_count": null,
      "outputs": []
    },
    {
      "cell_type": "code",
      "source": [
        "num_topics = 9\n",
        "\n",
        "# train LDA model\n",
        "lda_model = gensim.models.LdaModel(corpus=corpus, id2word=dictionary, num_topics=num_topics, random_state=42, passes=10)\n",
        "\n",
        "# print topics and words associated with each one\n",
        "for idx, topic in lda_model.print_topics(num_words=5):\n",
        "    print(f\"Topic {idx + 1}: {topic}\")"
      ],
      "metadata": {
        "colab": {
          "base_uri": "https://localhost:8080/"
        },
        "id": "YO_JnddfaMD2",
        "outputId": "2b37d4f6-11e4-4fcc-f58e-82d7a48563f6"
      },
      "execution_count": null,
      "outputs": [
        {
          "output_type": "stream",
          "name": "stdout",
          "text": [
            "Topic 1: 0.010*\"learning\" + 0.009*\"networks\" + 0.009*\"models\" + 0.009*\"deep\" + 0.007*\"using\"\n",
            "Topic 2: 0.010*\"neural\" + 0.008*\"learning\" + 0.008*\"networks\" + 0.007*\"deep\" + 0.006*\"approach\"\n",
            "Topic 3: 0.008*\"using\" + 0.008*\"learning\" + 0.007*\"framework\" + 0.006*\"groups\" + 0.006*\"models\"\n",
            "Topic 4: 0.007*\"model\" + 0.006*\"data\" + 0.006*\"models\" + 0.006*\"system\" + 0.006*\"based\"\n",
            "Topic 5: 0.023*\"learning\" + 0.019*\"networks\" + 0.015*\"deep\" + 0.013*\"neural\" + 0.009*\"convolutional\"\n",
            "Topic 6: 0.009*\"theory\" + 0.008*\"equations\" + 0.008*\"nonlinear\" + 0.007*\"problem\" + 0.006*\"differential\"\n",
            "Topic 7: 0.009*\"learning\" + 0.008*\"distributed\" + 0.007*\"systems\" + 0.006*\"data\" + 0.005*\"classification\"\n",
            "Topic 8: 0.008*\"via\" + 0.006*\"group\" + 0.004*\"function\" + 0.004*\"maps\" + 0.004*\"estimation\"\n",
            "Topic 9: 0.014*\"data\" + 0.010*\"analysis\" + 0.008*\"models\" + 0.007*\"networks\" + 0.006*\"efficient\"\n"
          ]
        }
      ]
    },
    {
      "cell_type": "code",
      "source": [
        "num_to_show = 5\n",
        "\n",
        "for i, document in enumerate(articles_1[:5]):\n",
        "    bow_vector = dictionary.doc2bow(preprocess_text(document))\n",
        "    topics = lda_model.get_document_topics(bow_vector)\n",
        "    top_topics = sorted(topics, key=lambda x: x[1], reverse=True)[:num_to_show]\n",
        "    print(f\"\\nTopic distribution for Document {i + 1} ('{document[:50]}...'):\")\n",
        "    for topic, probability in top_topics:\n",
        "        print(f\"Topic {topic + 1}: {probability:.4f}\")"
      ],
      "metadata": {
        "colab": {
          "base_uri": "https://localhost:8080/"
        },
        "id": "Z77fXoIBL7S8",
        "outputId": "bd26c891-113a-456c-8548-1fcbb79a0f41"
      },
      "execution_count": null,
      "outputs": [
        {
          "output_type": "stream",
          "name": "stdout",
          "text": [
            "\n",
            "Topic distribution for Document 1 ('Closed-form Marginal Likelihood in Gamma-Poisson M...'):\n",
            "Topic 8: 0.8222\n",
            "Topic 5: 0.0222\n",
            "Topic 4: 0.0222\n",
            "Topic 2: 0.0222\n",
            "Topic 1: 0.0222\n",
            "\n",
            "Topic distribution for Document 2 ('Laboratory mid-IR spectra of equilibrated and igne...'):\n",
            "Topic 4: 0.9111\n",
            "Topic 5: 0.0111\n",
            "Topic 2: 0.0111\n",
            "Topic 8: 0.0111\n",
            "Topic 6: 0.0111\n",
            "\n",
            "Topic distribution for Document 3 ('Case For Static AMSDU Aggregation in WLANs...'):\n",
            "Topic 9: 0.8518\n",
            "Topic 8: 0.0185\n",
            "Topic 3: 0.0185\n",
            "Topic 2: 0.0185\n",
            "Topic 5: 0.0185\n",
            "\n",
            "Topic distribution for Document 4 ('The $Gaia$-ESO Survey: the inner disk intermediate...'):\n",
            "Topic 9: 0.8889\n",
            "Topic 6: 0.0139\n",
            "Topic 1: 0.0139\n",
            "Topic 2: 0.0139\n",
            "Topic 8: 0.0139\n",
            "\n",
            "Topic distribution for Document 5 ('Witness-Functions versus Interpretation-Functions ...'):\n",
            "Topic 9: 0.8518\n",
            "Topic 4: 0.0185\n",
            "Topic 1: 0.0185\n",
            "Topic 2: 0.0185\n",
            "Topic 3: 0.0185\n"
          ]
        }
      ]
    },
    {
      "cell_type": "markdown",
      "source": [
        "For LDA model, we converted each article document into bag-of-words (BoW) format, making the documents represented as tuples. This way, each tuple contains a word ID and the frequency of that word in the document. BoW also serves as input for training the LDA model.\n",
        "LDA model is initializes using Gensim package. Word IDs are mapped to words to make interpretating topics easier, then ensuring the results are productive after number of topics is specified. To improve convergence, the model will pass through 10 times.\n",
        "Below, we see the topics and the top 5 words that characterize each topic with their weights, which indicate relevance. By training the LDA model to generate topics and display top wordds for each, it allows for easier interpretation og each topic's main theme.\n"
      ],
      "metadata": {
        "id": "TvT-kBwXHuF3"
      }
    },
    {
      "cell_type": "markdown",
      "source": [
        "Now were going to show:\n",
        "* The specific topics\n",
        "* The titles of the research articles that fit into these topics\n",
        "* The frequency at which these topics appear\n",
        "\n",
        "\n",
        "This is where we find the article titles, which topic they fall under, and number of times topic appears. We proceed with the process by counting the occurrences of each topic assignment across all documents. In the code below, the topics are sorted by the probability in descending order, placing the most probable topic at the beginning of the list. This allows for the most probable topic for each document."
      ],
      "metadata": {
        "id": "rpbHSMXF4McE"
      }
    },
    {
      "cell_type": "code",
      "source": [
        "from collections import Counter\n",
        "\n",
        "topic_counts = Counter()\n",
        "\n",
        "num_to_show = 5\n",
        "\n",
        "print(\"\\nDocument Titles and Their Assigned Topics (first 5 topics as an example):\")\n",
        "for i, row in enumerate(lda_model[corpus]):\n",
        "    # sort topics by probability\n",
        "    row = sorted(row, key=lambda x: x[1], reverse=True)\n",
        "    # find topic probability for articles\n",
        "    dominant_topic = row[0][0]  # No need to add 1 here; keep topic as zero-indexed\n",
        "    topic_counts[dominant_topic] += 1\n",
        "    print(f\"Document {i + 1}: '{articles_1[i][:50]}...', Assigned Topic: {dominant_topic + 1}\")\n",
        "    if i >= num_to_show:  # stop after first 5 documents to save space (there are approx. 1000 articles total)\n",
        "        break\n",
        "\n",
        "\n",
        "\n",
        "for i, row in enumerate(lda_model[corpus]):\n",
        "    # sort topics by probability\n",
        "    row = sorted(row, key=lambda x: x[1], reverse=True)\n",
        "\n",
        "    dominant_topic = row[0][0]\n",
        "    topic_counts[dominant_topic] += 1\n",
        "\n",
        "print(\"\\nNumber of Documents Assigned to Each Topic:\")\n",
        "for topic_num, count in topic_counts.items():\n",
        "    print(f\"Topic {topic_num + 1}: {count} documents\")"
      ],
      "metadata": {
        "colab": {
          "base_uri": "https://localhost:8080/"
        },
        "id": "GYdc0dI_5DOT",
        "outputId": "07db44ad-ea37-45b3-911e-79b41454072b"
      },
      "execution_count": null,
      "outputs": [
        {
          "output_type": "stream",
          "name": "stdout",
          "text": [
            "\n",
            "Document Titles and Their Assigned Topics (first 5 topics as an example):\n",
            "Document 1: 'Closed-form Marginal Likelihood in Gamma-Poisson M...', Assigned Topic: 8\n",
            "Document 2: 'Laboratory mid-IR spectra of equilibrated and igne...', Assigned Topic: 4\n",
            "Document 3: 'Case For Static AMSDU Aggregation in WLANs...', Assigned Topic: 9\n",
            "Document 4: 'The $Gaia$-ESO Survey: the inner disk intermediate...', Assigned Topic: 9\n",
            "Document 5: 'Witness-Functions versus Interpretation-Functions ...', Assigned Topic: 9\n",
            "Document 6: 'Pairwise Difference Estimation of High Dimensional...', Assigned Topic: 8\n",
            "\n",
            "Number of Documents Assigned to Each Topic:\n",
            "Topic 8: 98 documents\n",
            "Topic 4: 100 documents\n",
            "Topic 9: 120 documents\n",
            "Topic 6: 104 documents\n",
            "Topic 7: 106 documents\n",
            "Topic 1: 139 documents\n",
            "Topic 2: 98 documents\n",
            "Topic 5: 142 documents\n",
            "Topic 3: 99 documents\n"
          ]
        }
      ]
    },
    {
      "cell_type": "markdown",
      "source": [
        "Lastly, we explore how to display the words associated with each topic, which is really how the research articles are sorted. We retrieve the top num_words words for each topic, which is represented by a tuple. After some looping through the topics, we get an output of each topic number, that has been adjusted to one-based indexing, and its top words."
      ],
      "metadata": {
        "id": "3QwoO08DH2Ym"
      }
    },
    {
      "cell_type": "code",
      "source": [
        "import matplotlib.pyplot as plt\n",
        "from collections import Counter\n",
        "\n",
        "topic_assignments = []"
      ],
      "metadata": {
        "id": "kPj8FjzeEeSp"
      },
      "execution_count": null,
      "outputs": []
    },
    {
      "cell_type": "code",
      "source": [
        "for i, row in enumerate(lda_model[corpus]):\n",
        "    row = sorted(row, key=lambda x: x[1], reverse=True)\n",
        "\n",
        "    dominant_topic = row[0][0]\n",
        "    topic_assignments.append(dominant_topic)\n",
        "\n",
        "# plotting the histogram of the topic number\n",
        "plt.figure(figsize=(8, 6))\n",
        "plt.hist(topic_assignments, bins=range(min(topic_assignments), max(topic_assignments) + 2), edgecolor='black', align='left')\n",
        "plt.xlabel('Topic Number')\n",
        "plt.ylabel('Frequency (Number of Documents)')\n",
        "plt.title('Histogram of Topic Assignments')\n",
        "plt.xticks(range(min(topic_assignments), max(topic_assignments) + 1))\n",
        "plt.show()"
      ],
      "metadata": {
        "colab": {
          "base_uri": "https://localhost:8080/",
          "height": 564
        },
        "id": "8veABvgYEdpU",
        "outputId": "d04d770e-19f2-4101-9bad-3f73b33742dc"
      },
      "execution_count": null,
      "outputs": [
        {
          "output_type": "display_data",
          "data": {
            "text/plain": [
              "<Figure size 800x600 with 1 Axes>"
            ],
            "image/png": "[encoded data removed]"
          },
          "metadata": {}
        }
      ]
    },
    {
      "cell_type": "markdown",
      "source": [
        "As we can see above, the topics that are most frequently seen in the dataset of research articles are topics 1, 5, and 9 (the range starting at 0 is 1, and ending at 8 is 9)."
      ],
      "metadata": {
        "id": "OGf4UeLLFMjn"
      }
    },
    {
      "cell_type": "markdown",
      "source": [
        "Words associated with each topic (how the research articles are sorted)"
      ],
      "metadata": {
        "id": "eIPKdO245anS"
      }
    },
    {
      "cell_type": "code",
      "source": [
        "num_words = 7  # set how many specific top words you want for each topic\n",
        "print(\"Words Associated with Each Topic:\")\n",
        "for idx, topic in lda_model.print_topics(num_words=num_words):\n",
        "    print(f\"Topic {idx + 1}: {topic}\")"
      ],
      "metadata": {
        "colab": {
          "base_uri": "https://localhost:8080/"
        },
        "id": "u7Vm1a9T5hrh",
        "outputId": "910bccf4-6fb4-4b6c-82fc-1d20f724d9cb"
      },
      "execution_count": null,
      "outputs": [
        {
          "output_type": "stream",
          "name": "stdout",
          "text": [
            "Words Associated with Each Topic:\n",
            "Topic 1: 0.010*\"learning\" + 0.009*\"networks\" + 0.009*\"models\" + 0.009*\"deep\" + 0.007*\"using\" + 0.006*\"linear\" + 0.006*\"robust\"\n",
            "Topic 2: 0.010*\"neural\" + 0.008*\"learning\" + 0.008*\"networks\" + 0.007*\"deep\" + 0.006*\"approach\" + 0.006*\"network\" + 0.006*\"stochastic\"\n",
            "Topic 3: 0.008*\"using\" + 0.008*\"learning\" + 0.007*\"framework\" + 0.006*\"groups\" + 0.006*\"models\" + 0.005*\"time\" + 0.005*\"image\"\n",
            "Topic 4: 0.007*\"model\" + 0.006*\"data\" + 0.006*\"models\" + 0.006*\"system\" + 0.006*\"based\" + 0.006*\"learning\" + 0.005*\"quantum\"\n",
            "Topic 5: 0.023*\"learning\" + 0.019*\"networks\" + 0.015*\"deep\" + 0.013*\"neural\" + 0.009*\"convolutional\" + 0.007*\"using\" + 0.005*\"dynamics\"\n",
            "Topic 6: 0.009*\"theory\" + 0.008*\"equations\" + 0.008*\"nonlinear\" + 0.007*\"problem\" + 0.006*\"differential\" + 0.005*\"random\" + 0.005*\"stochastic\"\n",
            "Topic 7: 0.009*\"learning\" + 0.008*\"distributed\" + 0.007*\"systems\" + 0.006*\"data\" + 0.005*\"classification\" + 0.005*\"analysis\" + 0.005*\"structure\"\n",
            "Topic 8: 0.008*\"via\" + 0.006*\"group\" + 0.004*\"function\" + 0.004*\"maps\" + 0.004*\"estimation\" + 0.004*\"topological\" + 0.004*\"efficient\"\n",
            "Topic 9: 0.014*\"data\" + 0.010*\"analysis\" + 0.008*\"models\" + 0.007*\"networks\" + 0.006*\"efficient\" + 0.005*\"optimization\" + 0.004*\"methods\"\n"
          ]
        }
      ]
    },
    {
      "cell_type": "markdown",
      "source": [
        "# PRINTING RESEARCH ARTICLE AND ITS TOPIC"
      ],
      "metadata": {
        "id": "EKrxDPBIH8F1"
      }
    },
    {
      "cell_type": "code",
      "source": [
        "print(\"Only printed first 5 as example to save space:\")\n",
        "print(\"\")\n",
        "for i, row in enumerate(lda_model[corpus]):\n",
        "    # sort topics for each document by highest probability first\n",
        "    row = sorted(row, key=lambda x: x[1], reverse=True)\n",
        "    # get the most likely topic for each document\n",
        "    dominant_topic = row[0][0]\n",
        "    if i >= num_to_show:  # stop after first 5 documents\n",
        "        break\n",
        "\n",
        "    # print the main topic and associated words\n",
        "    print(f\"Document {i + 1}: '{articles_1[i][:50]}...'\")\n",
        "    print(f\"Main Topic: {dominant_topic + 1}\")\n",
        "    print(\"Top Words for this Topic:\")\n",
        "    print(lda_model.print_topic(dominant_topic, topn=5))\n",
        "    print(\"=\"*50)"
      ],
      "metadata": {
        "colab": {
          "base_uri": "https://localhost:8080/"
        },
        "id": "kQO2g53gH65_",
        "outputId": "bb56bcd6-31a6-4a77-9788-e59e72d9605e"
      },
      "execution_count": null,
      "outputs": [
        {
          "output_type": "stream",
          "name": "stdout",
          "text": [
            "Only printed first 5 as example to save space:\n",
            "\n",
            "Document 1: 'Closed-form Marginal Likelihood in Gamma-Poisson M...'\n",
            "Main Topic: 8\n",
            "Top Words for this Topic:\n",
            "0.008*\"via\" + 0.006*\"group\" + 0.004*\"function\" + 0.004*\"maps\" + 0.004*\"estimation\"\n",
            "==================================================\n",
            "Document 2: 'Laboratory mid-IR spectra of equilibrated and igne...'\n",
            "Main Topic: 4\n",
            "Top Words for this Topic:\n",
            "0.007*\"model\" + 0.006*\"data\" + 0.006*\"models\" + 0.006*\"system\" + 0.006*\"based\"\n",
            "==================================================\n",
            "Document 3: 'Case For Static AMSDU Aggregation in WLANs...'\n",
            "Main Topic: 9\n",
            "Top Words for this Topic:\n",
            "0.014*\"data\" + 0.010*\"analysis\" + 0.008*\"models\" + 0.007*\"networks\" + 0.006*\"efficient\"\n",
            "==================================================\n",
            "Document 4: 'The $Gaia$-ESO Survey: the inner disk intermediate...'\n",
            "Main Topic: 9\n",
            "Top Words for this Topic:\n",
            "0.014*\"data\" + 0.010*\"analysis\" + 0.008*\"models\" + 0.007*\"networks\" + 0.006*\"efficient\"\n",
            "==================================================\n",
            "Document 5: 'Witness-Functions versus Interpretation-Functions ...'\n",
            "Main Topic: 9\n",
            "Top Words for this Topic:\n",
            "0.014*\"data\" + 0.010*\"analysis\" + 0.008*\"models\" + 0.007*\"networks\" + 0.006*\"efficient\"\n",
            "==================================================\n"
          ]
        }
      ]
    },
    {
      "cell_type": "markdown",
      "source": [
        "# Conclusion\n",
        "\n",
        "Using a combination of Natural Language Processing (NLP) and machine learning techniques, specifically Latent Dirichlet Allocation (LDA), we achieve a method for efficiently categorizing large volumes of academic content based on thematic trends. This allowed for us to successfully develops a system that identifies the main topics within a collection of research articles and determines the presence and prevalence of these topics across each article.\n",
        "By preprocessing the textual data, where each article's content undergoes tokenization, stopword removal, and lowercasing to standardize and prepare the text for analysis. After preprocessing, we use LDA, a widely respected topic modeling algorithm, to analyze and extract dominant topics across the dataset. The LDA model learns latent topics in the corpus by assigning words to topics based on co-occurrence patterns, allowing it to uncover structured themes without requiring labeled data.\n",
        "To optimize the model, we calculated coherence scores, which measure the interpretability of topics, for a range of potential topic numbers. This helps in determining the ideal number of topics, ensuring that the model captures meaningful patterns within the data. The trained LDA model then associates each article with its most relevant topic based on probability, and we analyze topic distributions by assigning each document to its most likely topic and counting the occurrences.\n",
        "For interpretability, we examine the top words in each topic, which provide a snapshot of each topic’s thematic content. The system outputs both the assigned topics for individual articles and the frequency of each topic across the entire corpus, answering the research question by enabling a clear view of which topics are present and how frequently they appear.\n",
        "The system is highly valuable for researchers who need to organize and synthesize a large collection of academic literature. By automating the process of identifying main topics, the model reduces the time and effort involved in manual categorization. Additionally, it aids in prioritizing articles for further reading based on topic relevance, helping researchers to streamline their workflow.\n",
        "This system directly addresses the client’s question by providing an automated way to identify and categorize the main topics within a series of research articles. Each article is assigned to its most relevant topic, and the frequency of topics is measured across the corpus. This not only categorizes articles by theme but also offers insight into the prevalence of each topic, providing a comprehensive view of the thematic structure of the research dataset. The system answers the question of how to identify and track key topics in a large body of research, allowing for a more efficient and insightful literature analysis process."
      ],
      "metadata": {
        "id": "DoReOcySJFxF"
      }
    }
  ]
}